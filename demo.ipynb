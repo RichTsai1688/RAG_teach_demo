{
 "cells": [
  {
   "cell_type": "code",
   "execution_count": 8,
   "metadata": {},
   "outputs": [
    {
     "name": "stdout",
     "output_type": "stream",
     "text": [
      "Initialized CompositeElementBuilder v2 with provider: ollama\n",
      "Processing pages: 100%|███████████████████████| 10/10 [01:29<00:00,  8.97s/page]\n",
      "✅ Completed: 31 elements saved to /data/AI_tools/RAG_v2/output/../output/composite_v2.json\n"
     ]
    }
   ],
   "source": [
    "!python scripts/composite_builder_cli.py https://psd.fcu.edu.tw/ --llm_provider ollama --ollama_url http:/140.134.60.218:2116/v1 --ollama_model qwen2.5vl:7b --max_pages 10"
   ]
  },
  {
   "cell_type": "code",
   "execution_count": 4,
   "metadata": {},
   "outputs": [
    {
     "name": "stdout",
     "output_type": "stream",
     "text": [
      "/data/AI_tools/RAG_v2\n",
      "/data/AI_tools/RAG_v2\n"
     ]
    }
   ],
   "source": [
    "!pwd\n",
    "import os\n",
    "os.chdir('/data/AI_tools/RAG_v2')\n",
    "!pwd"
   ]
  },
  {
   "cell_type": "code",
   "execution_count": 19,
   "metadata": {},
   "outputs": [
    {
     "name": "stdout",
     "output_type": "stream",
     "text": [
      "載入 31 個項目...\n",
      "索引建立完成，包含 31 個向量\n",
      "Answer:\n",
      " <think>\n",
      "好的，我需要回答用户的问题：“請問學程名字”。首先，我要仔细查看提供的资料，寻找提到学程名称的信息。\n",
      "\n",
      "在提供的资料中，有多个来源。来源3688f819-7d9e-7c4c-965c-f48504a31d39提到了“精密學程 x 逢甲大學台積電「儀器工程」學分學程”，这显然是一个学程的名字。另外，来源c5934da3-4e52-4eb4-af6e-d4a066ac1062中的“逢甲精密學程”也可能是一个学程名称，但需要确认是否在问题中需要回答。\n",
      "\n",
      "用户的问题只是询问学程的名字，而资料中明确提到了两个学程名称：逢甲精密學程和精密學程 x 逢甲大學台積電「儀器工程」學分學程。但根据问题中的“學程名字”，可能需要更准确的答案。需要检查是否有其他来源提到其他学程名称。\n",
      "\n",
      "另外，来源5857fcda-fd0d-4a03-b4ff-25dcc7d5030b提到的是“2024聯合成果展”和“EduRail AI!”，这可能与学程无关。来源98d68e61-e8d9-405a-9a57-c0f585f5e77d提到的是“精密成長軌跡”和“逢甲精密學程”，但可能这些是活动或项目名称，而非学程正式名称。\n",
      "\n",
      "因此，最可能的学程名称是“逢甲精密學程”和“精密學程 x 逢甲大學台積電「儀器工程」學分學程”。但需要确认用户的问题是否需要多个答案。根据用户的问题，可能只需要其中一个，但资料中确实有两个不同的学程名称。不过，在资料中，“逢甲精密學程”可能是一个主要的学程名称，而另一个是结合台积电的学分学程。需要根据资料中的准确信息来回答。\n",
      "\n",
      "因此，正确的回答应该是两个学程名称，但需要检查是否在资料中有明确说明。根据来源3688f819-7d9e-4c4c-965c-f48504a31d39，学程名称是“精密學程 x 逢甲大學台積電「儀器工程」學分學程”，而来源c5934da3-4e52-4eb4-af6e-d4a066ac1062中的“逢甲精密學程”可能也是学程名称。所以答案应该是这两个名称。\n",
      "</think>\n",
      "\n",
      "根據提供的資訊，學程名稱為：  \n",
      "**逢甲精密學程**  \n",
      "\n",
      "此外，另一個相關學程為：  \n",
      "**精密學程 x 逢甲大學台積電「儀器工程」學分學程**  \n",
      "\n",
      "但若問題僅需提及一個學程名稱，則以「逢甲精密學程」為主要答案。\n",
      "\n",
      "References and images:\n",
      "\n",
      "- Source: c5934da3-4e52-4eb4-af6e-d4a066ac1062 (distance=0.667)\n",
      "  Content:\n",
      "  全站搜尋\n",
      "搜尋結果：\n",
      "\n",
      "- Source: 98d68e61-e8d9-405a-9a57-c0f585f5e77d (distance=0.745)\n",
      "  Content:\n",
      "  學程特色\n",
      "以職業能力基準來建構跨域的教學環境\n",
      "加入逢甲精密學程\n",
      "跳脫既有框架，實現自己的夢想藍圖\n",
      "校園活動\n",
      "校園新聞\n",
      "校園公告\n",
      "精密成長軌跡\n",
      "在名為大學生活的空白地圖增添繽紛色彩\n",
      "\n",
      "- Source: 5857fcda-fd0d-4a03-b4ff-25dcc7d5030b (distance=0.794)\n",
      "  Content:\n",
      "  2024聯合成果展\n",
      "資訊洪流中的燈塔 - EduRail AI!\n",
      "專題簡介\n",
      "在數位時代，學生在面對大學選擇與職涯規劃時，常常需要處理大量複雜且分散的資料，這不僅耗費時間，也增加了決策困難度。本專題以此為出發點，開發出一款結合人工智慧的大數據分析平台——EduRail AI，為學生在資訊洪流中提供清晰的指引，幫助他們迅速且準確地找到適合自己的學習和職涯方向。\n",
      "研究動機與目標\n",
      "根據美國喬治城大學教育與就業中心的研究報告，擁有高等教育學歷與薪資水平有密切關聯。然而，學生在選擇學校和科系時，常因資訊過於龐雜或缺乏系統性分析而陷入困境。本專題旨在利用人工智慧技術，協助學生節省資料整理的時間，並透過數據分析提供具體建議，讓他們能夠更快、更有效地做出決策。\n",
      "研究方法\n",
      "本研究運用 Vue3、CSS、JS、Python 等技術，建置智慧決策平台 EduRail AI，並結合 LLM（大型語言模型） 與 CollegeGo! 平台數據。透過 RAG（檢索增強生成）技術，結合 Ollama 和 llama3 模型，平台能即時處理和分析大量資料，並提供個人化建議，協助學生在短時間內掌握重要資訊。\n",
      "\n",
      "- Source: 3688f819-7d9e-4c4c-965c-f48504a31d39 (distance=0.800)\n",
      "  Content:\n",
      "  精密學程 x 逢甲大學台積電「儀器工程」學分學程\n",
      "精密學程 X 逢甲大學台積電半導體「儀器工程」學分學程旨在培養學生具備先進製程技術與儀器工程的專業知識與實務技能。透過整合學校與台積電的資源，學生不僅能夠學習到最新的半導體製程技術，還能參與台積電專業工程師講授的專屬課程。\n",
      "修讀學程的七大亮點及好處\n",
      "\n",
      "- Source: fb655430-3494-4135-89ae-ae526628a653 (distance=0.868)\n",
      "  Content:\n",
      "  成果發表\"遇見逢甲2024\"\n",
      "\n"
     ]
    }
   ],
   "source": [
    "!python scripts/rag_cli.py --embeddings output/composite_v2.json --model_path nomic-embed-text  --query \"請問學程名字\" --llm_provider ollama  --ollama_url http://140.134.60.218:2116/v1  --ollama_model qwen3:4b  --top_k 5\n"
   ]
  },
  {
   "cell_type": "code",
   "execution_count": null,
   "metadata": {},
   "outputs": [],
   "source": []
  }
 ],
 "metadata": {
  "kernelspec": {
   "display_name": "Python 3 (ipykernel)",
   "language": "python",
   "name": "python3"
  },
  "language_info": {
   "codemirror_mode": {
    "name": "ipython",
    "version": 3
   },
   "file_extension": ".py",
   "mimetype": "text/x-python",
   "name": "python",
   "nbconvert_exporter": "python",
   "pygments_lexer": "ipython3",
   "version": "3.11.0rc1"
  }
 },
 "nbformat": 4,
 "nbformat_minor": 2
}
